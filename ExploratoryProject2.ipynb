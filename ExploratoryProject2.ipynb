{
  "nbformat": 4,
  "nbformat_minor": 0,
  "metadata": {
    "colab": {
      "provenance": [],
      "include_colab_link": true
    },
    "kernelspec": {
      "name": "python3",
      "display_name": "Python 3"
    },
    "language_info": {
      "name": "python"
    }
  },
  "cells": [
    {
      "cell_type": "markdown",
      "metadata": {
        "id": "view-in-github",
        "colab_type": "text"
      },
      "source": [
        "<a href=\"https://colab.research.google.com/github/Lopez-Jordan/Python-With-Mathematics/blob/main/ExploratoryProject2.ipynb\" target=\"_parent\"><img src=\"https://colab.research.google.com/assets/colab-badge.svg\" alt=\"Open In Colab\"/></a>"
      ]
    },
    {
      "cell_type": "markdown",
      "source": [
        "Hello! Our names are Jordan Lopez and Rohit Sridhar. In this exploratory project we study the \"Random Walk\" and important statistcal properties that coincide.\n",
        "<br>\n",
        "<br>\n",
        "First we'd like to explain what exactly the \"Random Walk\" is. Imagine a person,\n",
        "who is walking on a two dimensional grid (beginning at the origin). He/She has the option to *step* in any\n",
        "direction precisely one unit--up,  down, left, or right.\n",
        "<br>\n",
        "<br>\n",
        "This very simple concept can be expressed and seen with the following code where this person takes 5 steps.\n",
        "\n"
      ],
      "metadata": {
        "id": "IU5qzKreG1AX"
      }
    },
    {
      "cell_type": "code",
      "source": [
        "import numpy as np\n",
        "import matplotlib.pyplot as plt\n",
        "\n",
        "xlist = np.zeros(10) # initializing the x values with zeros\n",
        "ylist = np.zeros(10) # initializing the y values with zeros\n",
        "x,y = 0,0\n",
        "\n",
        "for i in range(0, 10): # updating the x, y list with 10 steps\n",
        "  xlist[i] = x \n",
        "  ylist[i] = y\n",
        "  direction = np.random.choice(['up', 'down', 'left', 'right']) # generating the random movement\n",
        "  if direction == 'up': # the associated random movements and there (x,y) coordinate increments\n",
        "    y += 1\n",
        "  elif direction == 'down':\n",
        "    y += -1\n",
        "  elif direction == 'left':\n",
        "    x += -1\n",
        "  elif direction == 'right':\n",
        "    x += 1\n",
        "\n",
        "for j in range(0,10):\n",
        "  print(\"({},{})\".format(xlist[j], ylist[j]))\n",
        "  \n",
        "\n",
        "# Plot the random walk\n",
        "\n",
        "plt.plot(xlist, ylist)\n",
        "plt.xlabel('x-axis')\n",
        "plt.ylabel('y-axis')\n",
        "plt.title('Random Walk in 2D')\n",
        "plt.show()\n"
      ],
      "metadata": {
        "id": "RPcjzdj0_fZb",
        "outputId": "740b21db-dcea-4c07-ea1b-de9edebd566a",
        "colab": {
          "base_uri": "https://localhost:8080/",
          "height": 469
        }
      },
      "execution_count": null,
      "outputs": [
        {
          "output_type": "stream",
          "name": "stdout",
          "text": [
            "(0.0,0.0)\n",
            "(-1.0,0.0)\n",
            "(-1.0,1.0)\n",
            "(-1.0,0.0)\n",
            "(-1.0,1.0)\n",
            "(-1.0,2.0)\n",
            "(-1.0,3.0)\n",
            "(-1.0,2.0)\n",
            "(0.0,2.0)\n",
            "(0.0,3.0)\n"
          ]
        },
        {
          "output_type": "display_data",
          "data": {
            "text/plain": [
              "<Figure size 432x288 with 1 Axes>"
            ],
            "image/png": "[encoded data removed]"
          },
          "metadata": {
            "needs_background": "light"
          }
        }
      ]
    },
    {
      "cell_type": "markdown",
      "source": [
        "To take this a step further we want to analyze a couple properties of the Random Walk but with different step sizes. To generate this we create a new function which allows us to input a different number of steps named \"RandomWalkSteps\" and returns the final values (x,y) of the walk. Here is the associated code:"
      ],
      "metadata": {
        "id": "WmBwec5IOXoy"
      }
    },
    {
      "cell_type": "code",
      "source": [
        "import numpy as np\n",
        "import matplotlib.pyplot as plt\n",
        "\n",
        "def RandomWalkSteps(steps):\n",
        "  xlist = np.zeros(steps)\n",
        "  ylist = np.zeros(steps)\n",
        "  x,y = 0,0\n",
        "  for i in range(0, steps):\n",
        "    xlist[i] = x \n",
        "    ylist[i] = y\n",
        "    direction = np.random.choice(['up', 'down', 'left', 'right'])\n",
        "    if direction == 'up':\n",
        "      y += 1\n",
        "    elif direction == 'down':\n",
        "      y += -1\n",
        "    elif direction == 'left':\n",
        "      x += -1\n",
        "    elif direction == 'right':\n",
        "      x += 1\n",
        "  List = [xlist[-1],ylist[-1]]\n",
        "  return List\n",
        "  \n",
        "\n",
        "RandomWalkSteps(100)"
      ],
      "metadata": {
        "id": "Kv3mz4a5PDy9",
        "outputId": "f9120ad4-3276-4baf-ad3a-005fedb9f97b",
        "colab": {
          "base_uri": "https://localhost:8080/"
        }
      },
      "execution_count": 127,
      "outputs": [
        {
          "output_type": "execute_result",
          "data": {
            "text/plain": [
              "[-10.0, -1.0]"
            ]
          },
          "metadata": {},
          "execution_count": 127
        }
      ]
    },
    {
      "cell_type": "markdown",
      "source": [
        "For our first exploration, we want to see how far the person ends up from the origin, on average, with different steps sizes ie 10, 100 1,000"
      ],
      "metadata": {
        "id": "weRqAa-wd9bn"
      }
    },
    {
      "cell_type": "code",
      "source": [
        "import math\n",
        "\n",
        "def dist(n):\n",
        "    x = n[0]\n",
        "    y = n[1]\n",
        "    distance = math.sqrt(x**2 + y**2)\n",
        "    return distance\n",
        "\n",
        "for i in range(1000):\n",
        "  avgDistance = []\n",
        "  avgDistance.append(dist(RandomWalkSteps(10)))\n",
        "  avgDistance = sum(avgDistance)\n",
        "avgDistance = avgDistance / 10.0\n",
        "print(avgDistance)\n",
        "\n",
        "for i in range(1000):\n",
        "  avgDistance = []\n",
        "  avgDistance.append(dist(RandomWalkSteps(100)))\n",
        "  avgDistance = sum(avgDistance)\n",
        "avgDistance = avgDistance / 100.0\n",
        "print(avgDistance)\n",
        "\n",
        "for i in range(1000):\n",
        "  avgDistance = []\n",
        "  avgDistance.append(dist(RandomWalkSteps(1000)))\n",
        "  avgDistance = sum(avgDistance)\n",
        "avgDistance = avgDistance / 1000.0\n",
        "print(avgDistance)\n",
        "\n",
        "\n",
        "#### From this code, we can see that as we increase the step size, ie 10 to 100 to 1,000\n",
        "#### the average distance\n"
      ],
      "metadata": {
        "id": "mPn0uj38eH6D",
        "outputId": "f8160630-6627-4be9-ffe4-7da50f1ae44b",
        "colab": {
          "base_uri": "https://localhost:8080/"
        }
      },
      "execution_count": 141,
      "outputs": [
        {
          "output_type": "stream",
          "name": "stdout",
          "text": [
            "0.1\n",
            "0.07810249675906654\n",
            "0.00670820393249937\n"
          ]
        }
      ]
    }
  ]
}