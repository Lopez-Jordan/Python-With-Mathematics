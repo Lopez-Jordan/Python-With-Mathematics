{
  "cells": [
    {
      "cell_type": "markdown",
      "metadata": {
        "id": "view-in-github",
        "colab_type": "text"
      },
      "source": [
        "<a href=\"https://colab.research.google.com/github/Lopez-Jordan/Python-With-Mathematics/blob/main/JordanRohitTopic4.ipynb\" target=\"_parent\"><img src=\"https://colab.research.google.com/assets/colab-badge.svg\" alt=\"Open In Colab\"/></a>"
      ]
    },
    {
      "cell_type": "markdown",
      "source": [
        "# Introduction"
      ],
      "metadata": {
        "id": "8zjBwn64OTDA"
      }
    },
    {
      "cell_type": "markdown",
      "metadata": {
        "id": "LOw7pyX9g6eY"
      },
      "source": [
        "Hello, our names are Jordan Lopez and Rohit Sridhar. We are both 4th year\n",
        "Economics and Mathematics joint majors in which both have an interest in programming as a hobby. Taking this class allows us to explore a deeper, unique side of mathematics that can be explored with the aid of computing power and a different technical language than what most of our math classes entail--python. In this project we will demonstrate some of the intricacies in the Collatz Conjecture."
      ]
    },
    {
      "cell_type": "markdown",
      "source": [
        "# Question 1"
      ],
      "metadata": {
        "id": "KBuH3QncWTnc"
      }
    },
    {
      "cell_type": "markdown",
      "source": [
        "The function below takes an input integer (n) and prints the word 'Collatz' until the sequence hits 1. It does this by using a while loop to run while n does not equal 1, and updating n by dividing by 2 if even, and multiplying it by 3 and adding 1 if odd."
      ],
      "metadata": {
        "id": "WHfodQ4BfKlB"
      }
    },
    {
      "cell_type": "code",
      "source": [
        "def Collatz(n):\n",
        "    output = f\"{n}: \"\n",
        "    while n != 1:\n",
        "        if n % 2 == 0:\n",
        "            n = n // 2\n",
        "        else:\n",
        "            n = 3 * n + 1\n",
        "\n",
        "        output += f\"{n}  \"\n",
        "\n",
        "    print(output)\n"
      ],
      "metadata": {
        "id": "3gj-ct6eaGx4"
      },
      "execution_count": null,
      "outputs": []
    },
    {
      "cell_type": "code",
      "source": [
        "Collatz(5)"
      ],
      "metadata": {
        "colab": {
          "base_uri": "https://localhost:8080/"
        },
        "id": "BLRkdqCbdWFg",
        "outputId": "06af0c25-4772-4c6a-d704-1969da11f2dc"
      },
      "execution_count": null,
      "outputs": [
        {
          "output_type": "stream",
          "name": "stdout",
          "text": [
            "5: 16  8  4  2  1  \n"
          ]
        }
      ]
    },
    {
      "cell_type": "markdown",
      "source": [
        "# Question 2"
      ],
      "metadata": {
        "id": "7hCLQQBAWTBf"
      }
    },
    {
      "cell_type": "markdown",
      "source": [
        "In this cell, we are updating the Collatz function to output the number the sequence is on, rather than the word 'Collatz'. The next DroppingTime function, studies the dropping time from the input integer to when the Collatz sequence reaches a number smaller than it."
      ],
      "metadata": {
        "id": "qVPBATXpgsog"
      }
    },
    {
      "cell_type": "code",
      "source": [
        "def DroppingTime(n):\n",
        "    counter = 0\n",
        "    x = n\n",
        "    while x >= n:\n",
        "        if x % 2 == 0:\n",
        "            x = x//2\n",
        "        else:\n",
        "            x = 3 * x + 1\n",
        "        counter += 1\n",
        "    return counter"
      ],
      "metadata": {
        "id": "r_v27hNDWSeN"
      },
      "execution_count": null,
      "outputs": []
    },
    {
      "cell_type": "code",
      "source": [
        "Collatz(3)"
      ],
      "metadata": {
        "colab": {
          "base_uri": "https://localhost:8080/"
        },
        "id": "5METaV7sVdf4",
        "outputId": "082c7ca1-cdac-4236-ce1d-0a8947c9be3b"
      },
      "execution_count": null,
      "outputs": [
        {
          "output_type": "stream",
          "name": "stdout",
          "text": [
            "3, 10, 5, 16, 8, 4, 2, 1\n"
          ]
        }
      ]
    },
    {
      "cell_type": "code",
      "source": [
        "print(DroppingTime(2))"
      ],
      "metadata": {
        "id": "0Dz1TaYLXFcN"
      },
      "execution_count": null,
      "outputs": []
    },
    {
      "cell_type": "markdown",
      "source": [
        "# Question 3"
      ],
      "metadata": {
        "id": "eocAepcyWTL0"
      }
    },
    {
      "cell_type": "code",
      "source": [
        "for i in range(1, 101):\n",
        "  Collatz(i)"
      ],
      "metadata": {
        "colab": {
          "base_uri": "https://localhost:8080/"
        },
        "id": "xGKNecoAWSxp",
        "outputId": "77337895-f745-48ab-de17-fcd8141e15e3"
      },
      "execution_count": null,
      "outputs": [
        {
          "output_type": "stream",
          "name": "stdout",
          "text": [
            "1: \n",
            "2: 1  \n",
            "3: 10  5  16  8  4  2  1  \n",
            "4: 2  1  \n",
            "5: 16  8  4  2  1  \n",
            "6: 3  10  5  16  8  4  2  1  \n",
            "7: 22  11  34  17  52  26  13  40  20  10  5  16  8  4  2  1  \n",
            "8: 4  2  1  \n",
            "9: 28  14  7  22  11  34  17  52  26  13  40  20  10  5  16  8  4  2  1  \n",
            "10: 5  16  8  4  2  1  \n",
            "11: 34  17  52  26  13  40  20  10  5  16  8  4  2  1  \n",
            "12: 6  3  10  5  16  8  4  2  1  \n",
            "13: 40  20  10  5  16  8  4  2  1  \n",
            "14: 7  22  11  34  17  52  26  13  40  20  10  5  16  8  4  2  1  \n",
            "15: 46  23  70  35  106  53  160  80  40  20  10  5  16  8  4  2  1  \n",
            "16: 8  4  2  1  \n",
            "17: 52  26  13  40  20  10  5  16  8  4  2  1  \n",
            "18: 9  28  14  7  22  11  34  17  52  26  13  40  20  10  5  16  8  4  2  1  \n",
            "19: 58  29  88  44  22  11  34  17  52  26  13  40  20  10  5  16  8  4  2  1  \n",
            "20: 10  5  16  8  4  2  1  \n",
            "21: 64  32  16  8  4  2  1  \n",
            "22: 11  34  17  52  26  13  40  20  10  5  16  8  4  2  1  \n",
            "23: 70  35  106  53  160  80  40  20  10  5  16  8  4  2  1  \n",
            "24: 12  6  3  10  5  16  8  4  2  1  \n",
            "25: 76  38  19  58  29  88  44  22  11  34  17  52  26  13  40  20  10  5  16  8  4  2  1  \n",
            "26: 13  40  20  10  5  16  8  4  2  1  \n",
            "27: 82  41  124  62  31  94  47  142  71  214  107  322  161  484  242  121  364  182  91  274  137  412  206  103  310  155  466  233  700  350  175  526  263  790  395  1186  593  1780  890  445  1336  668  334  167  502  251  754  377  1132  566  283  850  425  1276  638  319  958  479  1438  719  2158  1079  3238  1619  4858  2429  7288  3644  1822  911  2734  1367  4102  2051  6154  3077  9232  4616  2308  1154  577  1732  866  433  1300  650  325  976  488  244  122  61  184  92  46  23  70  35  106  53  160  80  40  20  10  5  16  8  4  2  1  \n",
            "28: 14  7  22  11  34  17  52  26  13  40  20  10  5  16  8  4  2  1  \n",
            "29: 88  44  22  11  34  17  52  26  13  40  20  10  5  16  8  4  2  1  \n",
            "30: 15  46  23  70  35  106  53  160  80  40  20  10  5  16  8  4  2  1  \n",
            "31: 94  47  142  71  214  107  322  161  484  242  121  364  182  91  274  137  412  206  103  310  155  466  233  700  350  175  526  263  790  395  1186  593  1780  890  445  1336  668  334  167  502  251  754  377  1132  566  283  850  425  1276  638  319  958  479  1438  719  2158  1079  3238  1619  4858  2429  7288  3644  1822  911  2734  1367  4102  2051  6154  3077  9232  4616  2308  1154  577  1732  866  433  1300  650  325  976  488  244  122  61  184  92  46  23  70  35  106  53  160  80  40  20  10  5  16  8  4  2  1  \n",
            "32: 16  8  4  2  1  \n",
            "33: 100  50  25  76  38  19  58  29  88  44  22  11  34  17  52  26  13  40  20  10  5  16  8  4  2  1  \n",
            "34: 17  52  26  13  40  20  10  5  16  8  4  2  1  \n",
            "35: 106  53  160  80  40  20  10  5  16  8  4  2  1  \n",
            "36: 18  9  28  14  7  22  11  34  17  52  26  13  40  20  10  5  16  8  4  2  1  \n",
            "37: 112  56  28  14  7  22  11  34  17  52  26  13  40  20  10  5  16  8  4  2  1  \n",
            "38: 19  58  29  88  44  22  11  34  17  52  26  13  40  20  10  5  16  8  4  2  1  \n",
            "39: 118  59  178  89  268  134  67  202  101  304  152  76  38  19  58  29  88  44  22  11  34  17  52  26  13  40  20  10  5  16  8  4  2  1  \n",
            "40: 20  10  5  16  8  4  2  1  \n",
            "41: 124  62  31  94  47  142  71  214  107  322  161  484  242  121  364  182  91  274  137  412  206  103  310  155  466  233  700  350  175  526  263  790  395  1186  593  1780  890  445  1336  668  334  167  502  251  754  377  1132  566  283  850  425  1276  638  319  958  479  1438  719  2158  1079  3238  1619  4858  2429  7288  3644  1822  911  2734  1367  4102  2051  6154  3077  9232  4616  2308  1154  577  1732  866  433  1300  650  325  976  488  244  122  61  184  92  46  23  70  35  106  53  160  80  40  20  10  5  16  8  4  2  1  \n",
            "42: 21  64  32  16  8  4  2  1  \n",
            "43: 130  65  196  98  49  148  74  37  112  56  28  14  7  22  11  34  17  52  26  13  40  20  10  5  16  8  4  2  1  \n",
            "44: 22  11  34  17  52  26  13  40  20  10  5  16  8  4  2  1  \n",
            "45: 136  68  34  17  52  26  13  40  20  10  5  16  8  4  2  1  \n",
            "46: 23  70  35  106  53  160  80  40  20  10  5  16  8  4  2  1  \n",
            "47: 142  71  214  107  322  161  484  242  121  364  182  91  274  137  412  206  103  310  155  466  233  700  350  175  526  263  790  395  1186  593  1780  890  445  1336  668  334  167  502  251  754  377  1132  566  283  850  425  1276  638  319  958  479  1438  719  2158  1079  3238  1619  4858  2429  7288  3644  1822  911  2734  1367  4102  2051  6154  3077  9232  4616  2308  1154  577  1732  866  433  1300  650  325  976  488  244  122  61  184  92  46  23  70  35  106  53  160  80  40  20  10  5  16  8  4  2  1  \n",
            "48: 24  12  6  3  10  5  16  8  4  2  1  \n",
            "49: 148  74  37  112  56  28  14  7  22  11  34  17  52  26  13  40  20  10  5  16  8  4  2  1  \n",
            "50: 25  76  38  19  58  29  88  44  22  11  34  17  52  26  13  40  20  10  5  16  8  4  2  1  \n",
            "51: 154  77  232  116  58  29  88  44  22  11  34  17  52  26  13  40  20  10  5  16  8  4  2  1  \n",
            "52: 26  13  40  20  10  5  16  8  4  2  1  \n",
            "53: 160  80  40  20  10  5  16  8  4  2  1  \n",
            "54: 27  82  41  124  62  31  94  47  142  71  214  107  322  161  484  242  121  364  182  91  274  137  412  206  103  310  155  466  233  700  350  175  526  263  790  395  1186  593  1780  890  445  1336  668  334  167  502  251  754  377  1132  566  283  850  425  1276  638  319  958  479  1438  719  2158  1079  3238  1619  4858  2429  7288  3644  1822  911  2734  1367  4102  2051  6154  3077  9232  4616  2308  1154  577  1732  866  433  1300  650  325  976  488  244  122  61  184  92  46  23  70  35  106  53  160  80  40  20  10  5  16  8  4  2  1  \n",
            "55: 166  83  250  125  376  188  94  47  142  71  214  107  322  161  484  242  121  364  182  91  274  137  412  206  103  310  155  466  233  700  350  175  526  263  790  395  1186  593  1780  890  445  1336  668  334  167  502  251  754  377  1132  566  283  850  425  1276  638  319  958  479  1438  719  2158  1079  3238  1619  4858  2429  7288  3644  1822  911  2734  1367  4102  2051  6154  3077  9232  4616  2308  1154  577  1732  866  433  1300  650  325  976  488  244  122  61  184  92  46  23  70  35  106  53  160  80  40  20  10  5  16  8  4  2  1  \n",
            "56: 28  14  7  22  11  34  17  52  26  13  40  20  10  5  16  8  4  2  1  \n",
            "57: 172  86  43  130  65  196  98  49  148  74  37  112  56  28  14  7  22  11  34  17  52  26  13  40  20  10  5  16  8  4  2  1  \n",
            "58: 29  88  44  22  11  34  17  52  26  13  40  20  10  5  16  8  4  2  1  \n",
            "59: 178  89  268  134  67  202  101  304  152  76  38  19  58  29  88  44  22  11  34  17  52  26  13  40  20  10  5  16  8  4  2  1  \n",
            "60: 30  15  46  23  70  35  106  53  160  80  40  20  10  5  16  8  4  2  1  \n",
            "61: 184  92  46  23  70  35  106  53  160  80  40  20  10  5  16  8  4  2  1  \n",
            "62: 31  94  47  142  71  214  107  322  161  484  242  121  364  182  91  274  137  412  206  103  310  155  466  233  700  350  175  526  263  790  395  1186  593  1780  890  445  1336  668  334  167  502  251  754  377  1132  566  283  850  425  1276  638  319  958  479  1438  719  2158  1079  3238  1619  4858  2429  7288  3644  1822  911  2734  1367  4102  2051  6154  3077  9232  4616  2308  1154  577  1732  866  433  1300  650  325  976  488  244  122  61  184  92  46  23  70  35  106  53  160  80  40  20  10  5  16  8  4  2  1  \n",
            "63: 190  95  286  143  430  215  646  323  970  485  1456  728  364  182  91  274  137  412  206  103  310  155  466  233  700  350  175  526  263  790  395  1186  593  1780  890  445  1336  668  334  167  502  251  754  377  1132  566  283  850  425  1276  638  319  958  479  1438  719  2158  1079  3238  1619  4858  2429  7288  3644  1822  911  2734  1367  4102  2051  6154  3077  9232  4616  2308  1154  577  1732  866  433  1300  650  325  976  488  244  122  61  184  92  46  23  70  35  106  53  160  80  40  20  10  5  16  8  4  2  1  \n",
            "64: 32  16  8  4  2  1  \n",
            "65: 196  98  49  148  74  37  112  56  28  14  7  22  11  34  17  52  26  13  40  20  10  5  16  8  4  2  1  \n",
            "66: 33  100  50  25  76  38  19  58  29  88  44  22  11  34  17  52  26  13  40  20  10  5  16  8  4  2  1  \n",
            "67: 202  101  304  152  76  38  19  58  29  88  44  22  11  34  17  52  26  13  40  20  10  5  16  8  4  2  1  \n",
            "68: 34  17  52  26  13  40  20  10  5  16  8  4  2  1  \n",
            "69: 208  104  52  26  13  40  20  10  5  16  8  4  2  1  \n",
            "70: 35  106  53  160  80  40  20  10  5  16  8  4  2  1  \n",
            "71: 214  107  322  161  484  242  121  364  182  91  274  137  412  206  103  310  155  466  233  700  350  175  526  263  790  395  1186  593  1780  890  445  1336  668  334  167  502  251  754  377  1132  566  283  850  425  1276  638  319  958  479  1438  719  2158  1079  3238  1619  4858  2429  7288  3644  1822  911  2734  1367  4102  2051  6154  3077  9232  4616  2308  1154  577  1732  866  433  1300  650  325  976  488  244  122  61  184  92  46  23  70  35  106  53  160  80  40  20  10  5  16  8  4  2  1  \n",
            "72: 36  18  9  28  14  7  22  11  34  17  52  26  13  40  20  10  5  16  8  4  2  1  \n",
            "73: 220  110  55  166  83  250  125  376  188  94  47  142  71  214  107  322  161  484  242  121  364  182  91  274  137  412  206  103  310  155  466  233  700  350  175  526  263  790  395  1186  593  1780  890  445  1336  668  334  167  502  251  754  377  1132  566  283  850  425  1276  638  319  958  479  1438  719  2158  1079  3238  1619  4858  2429  7288  3644  1822  911  2734  1367  4102  2051  6154  3077  9232  4616  2308  1154  577  1732  866  433  1300  650  325  976  488  244  122  61  184  92  46  23  70  35  106  53  160  80  40  20  10  5  16  8  4  2  1  \n",
            "74: 37  112  56  28  14  7  22  11  34  17  52  26  13  40  20  10  5  16  8  4  2  1  \n",
            "75: 226  113  340  170  85  256  128  64  32  16  8  4  2  1  \n",
            "76: 38  19  58  29  88  44  22  11  34  17  52  26  13  40  20  10  5  16  8  4  2  1  \n",
            "77: 232  116  58  29  88  44  22  11  34  17  52  26  13  40  20  10  5  16  8  4  2  1  \n",
            "78: 39  118  59  178  89  268  134  67  202  101  304  152  76  38  19  58  29  88  44  22  11  34  17  52  26  13  40  20  10  5  16  8  4  2  1  \n",
            "79: 238  119  358  179  538  269  808  404  202  101  304  152  76  38  19  58  29  88  44  22  11  34  17  52  26  13  40  20  10  5  16  8  4  2  1  \n",
            "80: 40  20  10  5  16  8  4  2  1  \n",
            "81: 244  122  61  184  92  46  23  70  35  106  53  160  80  40  20  10  5  16  8  4  2  1  \n",
            "82: 41  124  62  31  94  47  142  71  214  107  322  161  484  242  121  364  182  91  274  137  412  206  103  310  155  466  233  700  350  175  526  263  790  395  1186  593  1780  890  445  1336  668  334  167  502  251  754  377  1132  566  283  850  425  1276  638  319  958  479  1438  719  2158  1079  3238  1619  4858  2429  7288  3644  1822  911  2734  1367  4102  2051  6154  3077  9232  4616  2308  1154  577  1732  866  433  1300  650  325  976  488  244  122  61  184  92  46  23  70  35  106  53  160  80  40  20  10  5  16  8  4  2  1  \n",
            "83: 250  125  376  188  94  47  142  71  214  107  322  161  484  242  121  364  182  91  274  137  412  206  103  310  155  466  233  700  350  175  526  263  790  395  1186  593  1780  890  445  1336  668  334  167  502  251  754  377  1132  566  283  850  425  1276  638  319  958  479  1438  719  2158  1079  3238  1619  4858  2429  7288  3644  1822  911  2734  1367  4102  2051  6154  3077  9232  4616  2308  1154  577  1732  866  433  1300  650  325  976  488  244  122  61  184  92  46  23  70  35  106  53  160  80  40  20  10  5  16  8  4  2  1  \n",
            "84: 42  21  64  32  16  8  4  2  1  \n",
            "85: 256  128  64  32  16  8  4  2  1  \n",
            "86: 43  130  65  196  98  49  148  74  37  112  56  28  14  7  22  11  34  17  52  26  13  40  20  10  5  16  8  4  2  1  \n",
            "87: 262  131  394  197  592  296  148  74  37  112  56  28  14  7  22  11  34  17  52  26  13  40  20  10  5  16  8  4  2  1  \n",
            "88: 44  22  11  34  17  52  26  13  40  20  10  5  16  8  4  2  1  \n",
            "89: 268  134  67  202  101  304  152  76  38  19  58  29  88  44  22  11  34  17  52  26  13  40  20  10  5  16  8  4  2  1  \n",
            "90: 45  136  68  34  17  52  26  13  40  20  10  5  16  8  4  2  1  \n",
            "91: 274  137  412  206  103  310  155  466  233  700  350  175  526  263  790  395  1186  593  1780  890  445  1336  668  334  167  502  251  754  377  1132  566  283  850  425  1276  638  319  958  479  1438  719  2158  1079  3238  1619  4858  2429  7288  3644  1822  911  2734  1367  4102  2051  6154  3077  9232  4616  2308  1154  577  1732  866  433  1300  650  325  976  488  244  122  61  184  92  46  23  70  35  106  53  160  80  40  20  10  5  16  8  4  2  1  \n",
            "92: 46  23  70  35  106  53  160  80  40  20  10  5  16  8  4  2  1  \n",
            "93: 280  140  70  35  106  53  160  80  40  20  10  5  16  8  4  2  1  \n",
            "94: 47  142  71  214  107  322  161  484  242  121  364  182  91  274  137  412  206  103  310  155  466  233  700  350  175  526  263  790  395  1186  593  1780  890  445  1336  668  334  167  502  251  754  377  1132  566  283  850  425  1276  638  319  958  479  1438  719  2158  1079  3238  1619  4858  2429  7288  3644  1822  911  2734  1367  4102  2051  6154  3077  9232  4616  2308  1154  577  1732  866  433  1300  650  325  976  488  244  122  61  184  92  46  23  70  35  106  53  160  80  40  20  10  5  16  8  4  2  1  \n",
            "95: 286  143  430  215  646  323  970  485  1456  728  364  182  91  274  137  412  206  103  310  155  466  233  700  350  175  526  263  790  395  1186  593  1780  890  445  1336  668  334  167  502  251  754  377  1132  566  283  850  425  1276  638  319  958  479  1438  719  2158  1079  3238  1619  4858  2429  7288  3644  1822  911  2734  1367  4102  2051  6154  3077  9232  4616  2308  1154  577  1732  866  433  1300  650  325  976  488  244  122  61  184  92  46  23  70  35  106  53  160  80  40  20  10  5  16  8  4  2  1  \n",
            "96: 48  24  12  6  3  10  5  16  8  4  2  1  \n",
            "97: 292  146  73  220  110  55  166  83  250  125  376  188  94  47  142  71  214  107  322  161  484  242  121  364  182  91  274  137  412  206  103  310  155  466  233  700  350  175  526  263  790  395  1186  593  1780  890  445  1336  668  334  167  502  251  754  377  1132  566  283  850  425  1276  638  319  958  479  1438  719  2158  1079  3238  1619  4858  2429  7288  3644  1822  911  2734  1367  4102  2051  6154  3077  9232  4616  2308  1154  577  1732  866  433  1300  650  325  976  488  244  122  61  184  92  46  23  70  35  106  53  160  80  40  20  10  5  16  8  4  2  1  \n",
            "98: 49  148  74  37  112  56  28  14  7  22  11  34  17  52  26  13  40  20  10  5  16  8  4  2  1  \n",
            "99: 298  149  448  224  112  56  28  14  7  22  11  34  17  52  26  13  40  20  10  5  16  8  4  2  1  \n",
            "100: 50  25  76  38  19  58  29  88  44  22  11  34  17  52  26  13  40  20  10  5  16  8  4  2  1  \n"
          ]
        }
      ]
    },
    {
      "cell_type": "markdown",
      "source": [
        "# Question 4"
      ],
      "metadata": {
        "id": "zpyCUN-nWTVj"
      }
    },
    {
      "cell_type": "markdown",
      "source": [
        "With the DroppingTime function we can easily figure out the \"Dropping Time\" for any number ran through the Collatz Function. We see that starting with 5, every other odd number (including 5) has a dropping time of 3. Ie. 5+4, 5+4+4, 5+4+4+4 ... all have dropping time of 3. Another obvious observation is all even numbers have a dropping time of 1, because they immediately get dropped in half. Another observation we see is that there is no coherent pattern with dropping times:"
      ],
      "metadata": {
        "id": "hRAm0_tSZGTD"
      }
    },
    {
      "cell_type": "markdown",
      "metadata": {
        "id": "_MPrWBdhpF3V"
      },
      "source": [
        "After studying the dropping time of many numbers, there are certain patterns that reveal themselves--even with no known rule that determins a numbers dropping time. "
      ]
    },
    {
      "cell_type": "markdown",
      "source": [
        "# Question 5\n"
      ],
      "metadata": {
        "id": "BQkNUbuaWTe6"
      }
    },
    {
      "cell_type": "markdown",
      "source": [
        "Whe starting with a negative integer for the Collatz function, theh function will get stuck in an infinite loop, since the function is programmed to stop only when the integer hits 1. \n",
        "\n"
      ],
      "metadata": {
        "id": "h-ixQLAOWOB7"
      }
    },
    {
      "cell_type": "markdown",
      "source": [
        "When starting with a negative integer, the sign of the integer never changes. This means eventually, the sequence will hit n = -1, in which case the sequence will determine that n is odd, multiply by 3 and add 1, yielding -2. Then the sequence determines n is even, and divides by 2, now making n = -1, and this two step cycle repeats indefinitly.\n"
      ],
      "metadata": {
        "id": "ywbNJjR0Xb94"
      }
    },
    {
      "cell_type": "markdown",
      "source": [
        "\n",
        "In order to fix this issue, in the first line of the function, we can change the while condition to `while abs(n) != 1` meaning now the function will also stop when n = -1"
      ],
      "metadata": {
        "id": "H6sYHbRqXd19"
      }
    },
    {
      "cell_type": "code",
      "source": [
        "def Collatz(n):\n",
        "  while abs(n) != 1:\n",
        "    if n % 2 == 0:\n",
        "      n /= 2\n",
        "    else:\n",
        "      n = (3 * n) + 1"
      ],
      "metadata": {
        "id": "j1AMhxOfWSnz"
      },
      "execution_count": null,
      "outputs": []
    },
    {
      "cell_type": "markdown",
      "source": [
        "One variant of this could be implemented such that instead of \n",
        "\n",
        "```\n",
        "else:\n",
        "  n = (3 * n) + 1\n",
        "```\n",
        "\n",
        "we can input \n",
        "\n",
        "\n",
        "\n",
        "```\n",
        "else:\n",
        "  n = (5 * n) + 1\n",
        "```\n",
        "\n",
        "However, this variant will also get stuck in a loop when a negative integer is the input, unless the while condition is controlled for with an absolute value. \n",
        "\n"
      ],
      "metadata": {
        "id": "tu0LPUo4Xk9I"
      }
    },
    {
      "cell_type": "code",
      "source": [
        "def Collatz_variant(n):\n",
        "    output = f\"{n}: \"\n",
        "    while abs(n) != 1:\n",
        "        if n % 2 == 0:\n",
        "            n = n // 2\n",
        "        else:\n",
        "            n = (5 * n) + 1\n",
        "\n",
        "        output += f\"{n}  \"\n",
        "\n",
        "    print(output)\n",
        "\n",
        "\n",
        "Collatz_variant(-3)"
      ],
      "metadata": {
        "colab": {
          "base_uri": "https://localhost:8080/"
        },
        "id": "NNTSNqJbe7sB",
        "outputId": "8f0d16a3-b6b0-4965-a87d-08f13ec531b0"
      },
      "execution_count": null,
      "outputs": [
        {
          "output_type": "stream",
          "name": "stdout",
          "text": [
            "-3: -14  -7  -34  -17  -84  -42  -21  -104  -52  -26  -13  -64  -32  -16  -8  -4  -2  -1  \n"
          ]
        }
      ]
    },
    {
      "cell_type": "markdown",
      "source": [
        "It seems as there may not be a solution where this conjecture can take both positive and negative inputs, aside from absolute value condition. "
      ],
      "metadata": {
        "id": "18ygU-hNfGSG"
      }
    },
    {
      "cell_type": "markdown",
      "source": [
        "Its interesting to note that once abs(n) reaches a perfect square, then we know the sequence will reach the end point."
      ],
      "metadata": {
        "id": "tVZ9H733gdjV"
      }
    },
    {
      "cell_type": "markdown",
      "source": [
        "# Testing Playground"
      ],
      "metadata": {
        "id": "HlGYbA4seUfA"
      }
    },
    {
      "cell_type": "code",
      "execution_count": null,
      "metadata": {
        "id": "IaMbBPRLh_t3"
      },
      "outputs": [],
      "source": [
        "#Testing Playground \n",
        "\n",
        "def is_prime(num):\n",
        "    if num > 1:\n",
        "        for i in range(2, num):\n",
        "            if (num % i) == 0:\n",
        "                return False\n",
        "        else:\n",
        "            return True\n",
        "    else:\n",
        "        return False\n",
        "\n",
        "\n",
        "for i in range(3, 1000):\n",
        "    if is_prime(i):\n",
        "        l = str(i)\n",
        "        n = str(DroppingTime(i))\n",
        "        print(l + \": \" + n)"
      ]
    }
  ],
  "metadata": {
    "colab": {
      "provenance": [],
      "include_colab_link": true
    },
    "kernelspec": {
      "display_name": "Python 3",
      "name": "python3"
    },
    "language_info": {
      "name": "python"
    }
  },
  "nbformat": 4,
  "nbformat_minor": 0
}