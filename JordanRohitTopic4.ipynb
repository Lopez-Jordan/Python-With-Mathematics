{
  "cells": [
    {
      "cell_type": "markdown",
      "metadata": {
        "id": "view-in-github",
        "colab_type": "text"
      },
      "source": [
        "<a href=\"https://colab.research.google.com/github/Lopez-Jordan/Python-With-Mathematics/blob/main/JordanRohitTopic4.ipynb\" target=\"_parent\"><img src=\"https://colab.research.google.com/assets/colab-badge.svg\" alt=\"Open In Colab\"/></a>"
      ]
    },
    {
      "cell_type": "markdown",
      "source": [
        "# Introduction"
      ],
      "metadata": {
        "id": "8zjBwn64OTDA"
      }
    },
    {
      "cell_type": "markdown",
      "metadata": {
        "id": "LOw7pyX9g6eY"
      },
      "source": [
        "Hello, our names are Jordan Lopez and Rohit Sridhar. We are both 4th year\n",
        "Economics and Mathematics joint majors in which both have an interest in programming as a hobby. Taking this class allows us to explore a deeper, unique side of mathematics that can be explored with the aid of computing power and a different technical language than what most of our math classes entail--python. In this project we will demonstrate some of the intricacies in the Collatz Conjecture."
      ]
    },
    {
      "cell_type": "markdown",
      "source": [
        "# Question 1"
      ],
      "metadata": {
        "id": "KBuH3QncWTnc"
      }
    },
    {
      "cell_type": "markdown",
      "source": [
        "To begin, we write the following function in python named \"Collatz\".\n",
        "The function below takes an input integer (n) and prints the sequence of numbers following the initial input, n, until the sequence hits 1. It does this by using a while loop to run while n does not equal 1, and updating n by dividing by 2 if even, and multiplying it by 3 and adding 1 if odd."
      ],
      "metadata": {
        "id": "WHfodQ4BfKlB"
      }
    },
    {
      "cell_type": "code",
      "source": [
        "def Collatz(n): # defining the function\n",
        "    output = f\"{n}: \"\n",
        "    while n != 1: # continue modifying the input, n, until the sequence reaches 1\n",
        "        if n % 2 == 0:\n",
        "            n = n // 2 # The case where n is even\n",
        "        else:\n",
        "            n = 3 * n + 1 # The case where n is odd\n",
        "\n",
        "        output += f\"{n}  \" # The output constantly being updated with each iteration of the for-loop\n",
        "\n",
        "    print(output) # print the desired sequence\n"
      ],
      "metadata": {
        "id": "3gj-ct6eaGx4"
      },
      "execution_count": 2,
      "outputs": []
    },
    {
      "cell_type": "code",
      "source": [
        "Collatz(5) # Here is an example of the function working with the initial value of n equal to 5"
      ],
      "metadata": {
        "colab": {
          "base_uri": "https://localhost:8080/"
        },
        "id": "BLRkdqCbdWFg",
        "outputId": "9fc89127-1d57-4364-bf0e-46a8669ec70c"
      },
      "execution_count": 3,
      "outputs": [
        {
          "output_type": "stream",
          "name": "stdout",
          "text": [
            "5: 16  8  4  2  1  \n"
          ]
        }
      ]
    },
    {
      "cell_type": "markdown",
      "source": [
        "# Question 2"
      ],
      "metadata": {
        "id": "7hCLQQBAWTBf"
      }
    },
    {
      "cell_type": "markdown",
      "source": [
        "Our next function, named \"DroppingTime\", is very similar to the \"Collatz\" function except the only difference is it gives us the dropping time of any input, n. In this function, we compute the number of iterations in the Collatz sequence it takes for any input, n, to reach a number less than n. By creating this function, we are able to see if there are any patterns to be found relating the input to the dropping time: as explored below."
      ],
      "metadata": {
        "id": "qVPBATXpgsog"
      }
    },
    {
      "cell_type": "code",
      "source": [
        "def DroppingTime(n):\n",
        "    counter = 0 # counter initialized at 0 before entering the while loop\n",
        "    x = n\n",
        "    while x >= n: # Continue iterating until we reach a number in the sequence, x, such that x < n\n",
        "        if x % 2 == 0: \n",
        "            x = x//2\n",
        "        else:\n",
        "            x = 3 * x + 1\n",
        "        counter += 1 # counter is continually increased by 1 through every iteration\n",
        "    return counter"
      ],
      "metadata": {
        "id": "r_v27hNDWSeN"
      },
      "execution_count": 4,
      "outputs": []
    },
    {
      "cell_type": "code",
      "source": [
        "Collatz(3) # input for reference"
      ],
      "metadata": {
        "colab": {
          "base_uri": "https://localhost:8080/"
        },
        "id": "5METaV7sVdf4",
        "outputId": "0a5015a8-cf3c-4868-9cdd-aa4df8ad2538"
      },
      "execution_count": 5,
      "outputs": [
        {
          "output_type": "stream",
          "name": "stdout",
          "text": [
            "3: 10  5  16  8  4  2  1  \n"
          ]
        }
      ]
    },
    {
      "cell_type": "code",
      "source": [
        "print(DroppingTime(3)) # It takes 6 iterations of the Collatz sequence starting at input \"3\" to reach a number smaller than 3, in this case, 2."
      ],
      "metadata": {
        "id": "0Dz1TaYLXFcN",
        "colab": {
          "base_uri": "https://localhost:8080/"
        },
        "outputId": "5f5db886-3de0-46f5-87b3-c2c66e0b657a"
      },
      "execution_count": 11,
      "outputs": [
        {
          "output_type": "stream",
          "name": "stdout",
          "text": [
            "6\n"
          ]
        }
      ]
    },
    {
      "cell_type": "markdown",
      "source": [
        "# Question 3"
      ],
      "metadata": {
        "id": "eocAepcyWTL0"
      }
    },
    {
      "cell_type": "markdown",
      "source": [
        "In block of code below, we printed all the Collatz sequences for number 1 to 100."
      ],
      "metadata": {
        "id": "JXqRGSxeoGt1"
      }
    },
    {
      "cell_type": "code",
      "source": [
        "for i in range(1, 101):\n",
        "  Collatz(i)"
      ],
      "metadata": {
        "colab": {
          "base_uri": "https://localhost:8080/"
        },
        "id": "xGKNecoAWSxp",
        "outputId": "0db317c9-a098-4d65-f9fd-7ed4f01b9920"
      },
      "execution_count": 7,
      "outputs": [
        {
          "output_type": "stream",
          "name": "stdout",
          "text": [
            "1: \n",
            "2: 1  \n",
            "3: 10  5  16  8  4  2  1  \n",
            "4: 2  1  \n",
            "5: 16  8  4  2  1  \n",
            "6: 3  10  5  16  8  4  2  1  \n",
            "7: 22  11  34  17  52  26  13  40  20  10  5  16  8  4  2  1  \n",
            "8: 4  2  1  \n",
            "9: 28  14  7  22  11  34  17  52  26  13  40  20  10  5  16  8  4  2  1  \n",
            "10: 5  16  8  4  2  1  \n",
            "11: 34  17  52  26  13  40  20  10  5  16  8  4  2  1  \n",
            "12: 6  3  10  5  16  8  4  2  1  \n",
            "13: 40  20  10  5  16  8  4  2  1  \n",
            "14: 7  22  11  34  17  52  26  13  40  20  10  5  16  8  4  2  1  \n",
            "15: 46  23  70  35  106  53  160  80  40  20  10  5  16  8  4  2  1  \n",
            "16: 8  4  2  1  \n",
            "17: 52  26  13  40  20  10  5  16  8  4  2  1  \n",
            "18: 9  28  14  7  22  11  34  17  52  26  13  40  20  10  5  16  8  4  2  1  \n",
            "19: 58  29  88  44  22  11  34  17  52  26  13  40  20  10  5  16  8  4  2  1  \n",
            "20: 10  5  16  8  4  2  1  \n",
            "21: 64  32  16  8  4  2  1  \n",
            "22: 11  34  17  52  26  13  40  20  10  5  16  8  4  2  1  \n",
            "23: 70  35  106  53  160  80  40  20  10  5  16  8  4  2  1  \n",
            "24: 12  6  3  10  5  16  8  4  2  1  \n",
            "25: 76  38  19  58  29  88  44  22  11  34  17  52  26  13  40  20  10  5  16  8  4  2  1  \n",
            "26: 13  40  20  10  5  16  8  4  2  1  \n",
            "27: 82  41  124  62  31  94  47  142  71  214  107  322  161  484  242  121  364  182  91  274  137  412  206  103  310  155  466  233  700  350  175  526  263  790  395  1186  593  1780  890  445  1336  668  334  167  502  251  754  377  1132  566  283  850  425  1276  638  319  958  479  1438  719  2158  1079  3238  1619  4858  2429  7288  3644  1822  911  2734  1367  4102  2051  6154  3077  9232  4616  2308  1154  577  1732  866  433  1300  650  325  976  488  244  122  61  184  92  46  23  70  35  106  53  160  80  40  20  10  5  16  8  4  2  1  \n",
            "28: 14  7  22  11  34  17  52  26  13  40  20  10  5  16  8  4  2  1  \n",
            "29: 88  44  22  11  34  17  52  26  13  40  20  10  5  16  8  4  2  1  \n",
            "30: 15  46  23  70  35  106  53  160  80  40  20  10  5  16  8  4  2  1  \n",
            "31: 94  47  142  71  214  107  322  161  484  242  121  364  182  91  274  137  412  206  103  310  155  466  233  700  350  175  526  263  790  395  1186  593  1780  890  445  1336  668  334  167  502  251  754  377  1132  566  283  850  425  1276  638  319  958  479  1438  719  2158  1079  3238  1619  4858  2429  7288  3644  1822  911  2734  1367  4102  2051  6154  3077  9232  4616  2308  1154  577  1732  866  433  1300  650  325  976  488  244  122  61  184  92  46  23  70  35  106  53  160  80  40  20  10  5  16  8  4  2  1  \n",
            "32: 16  8  4  2  1  \n",
            "33: 100  50  25  76  38  19  58  29  88  44  22  11  34  17  52  26  13  40  20  10  5  16  8  4  2  1  \n",
            "34: 17  52  26  13  40  20  10  5  16  8  4  2  1  \n",
            "35: 106  53  160  80  40  20  10  5  16  8  4  2  1  \n",
            "36: 18  9  28  14  7  22  11  34  17  52  26  13  40  20  10  5  16  8  4  2  1  \n",
            "37: 112  56  28  14  7  22  11  34  17  52  26  13  40  20  10  5  16  8  4  2  1  \n",
            "38: 19  58  29  88  44  22  11  34  17  52  26  13  40  20  10  5  16  8  4  2  1  \n",
            "39: 118  59  178  89  268  134  67  202  101  304  152  76  38  19  58  29  88  44  22  11  34  17  52  26  13  40  20  10  5  16  8  4  2  1  \n",
            "40: 20  10  5  16  8  4  2  1  \n",
            "41: 124  62  31  94  47  142  71  214  107  322  161  484  242  121  364  182  91  274  137  412  206  103  310  155  466  233  700  350  175  526  263  790  395  1186  593  1780  890  445  1336  668  334  167  502  251  754  377  1132  566  283  850  425  1276  638  319  958  479  1438  719  2158  1079  3238  1619  4858  2429  7288  3644  1822  911  2734  1367  4102  2051  6154  3077  9232  4616  2308  1154  577  1732  866  433  1300  650  325  976  488  244  122  61  184  92  46  23  70  35  106  53  160  80  40  20  10  5  16  8  4  2  1  \n",
            "42: 21  64  32  16  8  4  2  1  \n",
            "43: 130  65  196  98  49  148  74  37  112  56  28  14  7  22  11  34  17  52  26  13  40  20  10  5  16  8  4  2  1  \n",
            "44: 22  11  34  17  52  26  13  40  20  10  5  16  8  4  2  1  \n",
            "45: 136  68  34  17  52  26  13  40  20  10  5  16  8  4  2  1  \n",
            "46: 23  70  35  106  53  160  80  40  20  10  5  16  8  4  2  1  \n",
            "47: 142  71  214  107  322  161  484  242  121  364  182  91  274  137  412  206  103  310  155  466  233  700  350  175  526  263  790  395  1186  593  1780  890  445  1336  668  334  167  502  251  754  377  1132  566  283  850  425  1276  638  319  958  479  1438  719  2158  1079  3238  1619  4858  2429  7288  3644  1822  911  2734  1367  4102  2051  6154  3077  9232  4616  2308  1154  577  1732  866  433  1300  650  325  976  488  244  122  61  184  92  46  23  70  35  106  53  160  80  40  20  10  5  16  8  4  2  1  \n",
            "48: 24  12  6  3  10  5  16  8  4  2  1  \n",
            "49: 148  74  37  112  56  28  14  7  22  11  34  17  52  26  13  40  20  10  5  16  8  4  2  1  \n",
            "50: 25  76  38  19  58  29  88  44  22  11  34  17  52  26  13  40  20  10  5  16  8  4  2  1  \n",
            "51: 154  77  232  116  58  29  88  44  22  11  34  17  52  26  13  40  20  10  5  16  8  4  2  1  \n",
            "52: 26  13  40  20  10  5  16  8  4  2  1  \n",
            "53: 160  80  40  20  10  5  16  8  4  2  1  \n",
            "54: 27  82  41  124  62  31  94  47  142  71  214  107  322  161  484  242  121  364  182  91  274  137  412  206  103  310  155  466  233  700  350  175  526  263  790  395  1186  593  1780  890  445  1336  668  334  167  502  251  754  377  1132  566  283  850  425  1276  638  319  958  479  1438  719  2158  1079  3238  1619  4858  2429  7288  3644  1822  911  2734  1367  4102  2051  6154  3077  9232  4616  2308  1154  577  1732  866  433  1300  650  325  976  488  244  122  61  184  92  46  23  70  35  106  53  160  80  40  20  10  5  16  8  4  2  1  \n",
            "55: 166  83  250  125  376  188  94  47  142  71  214  107  322  161  484  242  121  364  182  91  274  137  412  206  103  310  155  466  233  700  350  175  526  263  790  395  1186  593  1780  890  445  1336  668  334  167  502  251  754  377  1132  566  283  850  425  1276  638  319  958  479  1438  719  2158  1079  3238  1619  4858  2429  7288  3644  1822  911  2734  1367  4102  2051  6154  3077  9232  4616  2308  1154  577  1732  866  433  1300  650  325  976  488  244  122  61  184  92  46  23  70  35  106  53  160  80  40  20  10  5  16  8  4  2  1  \n",
            "56: 28  14  7  22  11  34  17  52  26  13  40  20  10  5  16  8  4  2  1  \n",
            "57: 172  86  43  130  65  196  98  49  148  74  37  112  56  28  14  7  22  11  34  17  52  26  13  40  20  10  5  16  8  4  2  1  \n",
            "58: 29  88  44  22  11  34  17  52  26  13  40  20  10  5  16  8  4  2  1  \n",
            "59: 178  89  268  134  67  202  101  304  152  76  38  19  58  29  88  44  22  11  34  17  52  26  13  40  20  10  5  16  8  4  2  1  \n",
            "60: 30  15  46  23  70  35  106  53  160  80  40  20  10  5  16  8  4  2  1  \n",
            "61: 184  92  46  23  70  35  106  53  160  80  40  20  10  5  16  8  4  2  1  \n",
            "62: 31  94  47  142  71  214  107  322  161  484  242  121  364  182  91  274  137  412  206  103  310  155  466  233  700  350  175  526  263  790  395  1186  593  1780  890  445  1336  668  334  167  502  251  754  377  1132  566  283  850  425  1276  638  319  958  479  1438  719  2158  1079  3238  1619  4858  2429  7288  3644  1822  911  2734  1367  4102  2051  6154  3077  9232  4616  2308  1154  577  1732  866  433  1300  650  325  976  488  244  122  61  184  92  46  23  70  35  106  53  160  80  40  20  10  5  16  8  4  2  1  \n",
            "63: 190  95  286  143  430  215  646  323  970  485  1456  728  364  182  91  274  137  412  206  103  310  155  466  233  700  350  175  526  263  790  395  1186  593  1780  890  445  1336  668  334  167  502  251  754  377  1132  566  283  850  425  1276  638  319  958  479  1438  719  2158  1079  3238  1619  4858  2429  7288  3644  1822  911  2734  1367  4102  2051  6154  3077  9232  4616  2308  1154  577  1732  866  433  1300  650  325  976  488  244  122  61  184  92  46  23  70  35  106  53  160  80  40  20  10  5  16  8  4  2  1  \n",
            "64: 32  16  8  4  2  1  \n",
            "65: 196  98  49  148  74  37  112  56  28  14  7  22  11  34  17  52  26  13  40  20  10  5  16  8  4  2  1  \n",
            "66: 33  100  50  25  76  38  19  58  29  88  44  22  11  34  17  52  26  13  40  20  10  5  16  8  4  2  1  \n",
            "67: 202  101  304  152  76  38  19  58  29  88  44  22  11  34  17  52  26  13  40  20  10  5  16  8  4  2  1  \n",
            "68: 34  17  52  26  13  40  20  10  5  16  8  4  2  1  \n",
            "69: 208  104  52  26  13  40  20  10  5  16  8  4  2  1  \n",
            "70: 35  106  53  160  80  40  20  10  5  16  8  4  2  1  \n",
            "71: 214  107  322  161  484  242  121  364  182  91  274  137  412  206  103  310  155  466  233  700  350  175  526  263  790  395  1186  593  1780  890  445  1336  668  334  167  502  251  754  377  1132  566  283  850  425  1276  638  319  958  479  1438  719  2158  1079  3238  1619  4858  2429  7288  3644  1822  911  2734  1367  4102  2051  6154  3077  9232  4616  2308  1154  577  1732  866  433  1300  650  325  976  488  244  122  61  184  92  46  23  70  35  106  53  160  80  40  20  10  5  16  8  4  2  1  \n",
            "72: 36  18  9  28  14  7  22  11  34  17  52  26  13  40  20  10  5  16  8  4  2  1  \n",
            "73: 220  110  55  166  83  250  125  376  188  94  47  142  71  214  107  322  161  484  242  121  364  182  91  274  137  412  206  103  310  155  466  233  700  350  175  526  263  790  395  1186  593  1780  890  445  1336  668  334  167  502  251  754  377  1132  566  283  850  425  1276  638  319  958  479  1438  719  2158  1079  3238  1619  4858  2429  7288  3644  1822  911  2734  1367  4102  2051  6154  3077  9232  4616  2308  1154  577  1732  866  433  1300  650  325  976  488  244  122  61  184  92  46  23  70  35  106  53  160  80  40  20  10  5  16  8  4  2  1  \n",
            "74: 37  112  56  28  14  7  22  11  34  17  52  26  13  40  20  10  5  16  8  4  2  1  \n",
            "75: 226  113  340  170  85  256  128  64  32  16  8  4  2  1  \n",
            "76: 38  19  58  29  88  44  22  11  34  17  52  26  13  40  20  10  5  16  8  4  2  1  \n",
            "77: 232  116  58  29  88  44  22  11  34  17  52  26  13  40  20  10  5  16  8  4  2  1  \n",
            "78: 39  118  59  178  89  268  134  67  202  101  304  152  76  38  19  58  29  88  44  22  11  34  17  52  26  13  40  20  10  5  16  8  4  2  1  \n",
            "79: 238  119  358  179  538  269  808  404  202  101  304  152  76  38  19  58  29  88  44  22  11  34  17  52  26  13  40  20  10  5  16  8  4  2  1  \n",
            "80: 40  20  10  5  16  8  4  2  1  \n",
            "81: 244  122  61  184  92  46  23  70  35  106  53  160  80  40  20  10  5  16  8  4  2  1  \n",
            "82: 41  124  62  31  94  47  142  71  214  107  322  161  484  242  121  364  182  91  274  137  412  206  103  310  155  466  233  700  350  175  526  263  790  395  1186  593  1780  890  445  1336  668  334  167  502  251  754  377  1132  566  283  850  425  1276  638  319  958  479  1438  719  2158  1079  3238  1619  4858  2429  7288  3644  1822  911  2734  1367  4102  2051  6154  3077  9232  4616  2308  1154  577  1732  866  433  1300  650  325  976  488  244  122  61  184  92  46  23  70  35  106  53  160  80  40  20  10  5  16  8  4  2  1  \n",
            "83: 250  125  376  188  94  47  142  71  214  107  322  161  484  242  121  364  182  91  274  137  412  206  103  310  155  466  233  700  350  175  526  263  790  395  1186  593  1780  890  445  1336  668  334  167  502  251  754  377  1132  566  283  850  425  1276  638  319  958  479  1438  719  2158  1079  3238  1619  4858  2429  7288  3644  1822  911  2734  1367  4102  2051  6154  3077  9232  4616  2308  1154  577  1732  866  433  1300  650  325  976  488  244  122  61  184  92  46  23  70  35  106  53  160  80  40  20  10  5  16  8  4  2  1  \n",
            "84: 42  21  64  32  16  8  4  2  1  \n",
            "85: 256  128  64  32  16  8  4  2  1  \n",
            "86: 43  130  65  196  98  49  148  74  37  112  56  28  14  7  22  11  34  17  52  26  13  40  20  10  5  16  8  4  2  1  \n",
            "87: 262  131  394  197  592  296  148  74  37  112  56  28  14  7  22  11  34  17  52  26  13  40  20  10  5  16  8  4  2  1  \n",
            "88: 44  22  11  34  17  52  26  13  40  20  10  5  16  8  4  2  1  \n",
            "89: 268  134  67  202  101  304  152  76  38  19  58  29  88  44  22  11  34  17  52  26  13  40  20  10  5  16  8  4  2  1  \n",
            "90: 45  136  68  34  17  52  26  13  40  20  10  5  16  8  4  2  1  \n",
            "91: 274  137  412  206  103  310  155  466  233  700  350  175  526  263  790  395  1186  593  1780  890  445  1336  668  334  167  502  251  754  377  1132  566  283  850  425  1276  638  319  958  479  1438  719  2158  1079  3238  1619  4858  2429  7288  3644  1822  911  2734  1367  4102  2051  6154  3077  9232  4616  2308  1154  577  1732  866  433  1300  650  325  976  488  244  122  61  184  92  46  23  70  35  106  53  160  80  40  20  10  5  16  8  4  2  1  \n",
            "92: 46  23  70  35  106  53  160  80  40  20  10  5  16  8  4  2  1  \n",
            "93: 280  140  70  35  106  53  160  80  40  20  10  5  16  8  4  2  1  \n",
            "94: 47  142  71  214  107  322  161  484  242  121  364  182  91  274  137  412  206  103  310  155  466  233  700  350  175  526  263  790  395  1186  593  1780  890  445  1336  668  334  167  502  251  754  377  1132  566  283  850  425  1276  638  319  958  479  1438  719  2158  1079  3238  1619  4858  2429  7288  3644  1822  911  2734  1367  4102  2051  6154  3077  9232  4616  2308  1154  577  1732  866  433  1300  650  325  976  488  244  122  61  184  92  46  23  70  35  106  53  160  80  40  20  10  5  16  8  4  2  1  \n",
            "95: 286  143  430  215  646  323  970  485  1456  728  364  182  91  274  137  412  206  103  310  155  466  233  700  350  175  526  263  790  395  1186  593  1780  890  445  1336  668  334  167  502  251  754  377  1132  566  283  850  425  1276  638  319  958  479  1438  719  2158  1079  3238  1619  4858  2429  7288  3644  1822  911  2734  1367  4102  2051  6154  3077  9232  4616  2308  1154  577  1732  866  433  1300  650  325  976  488  244  122  61  184  92  46  23  70  35  106  53  160  80  40  20  10  5  16  8  4  2  1  \n",
            "96: 48  24  12  6  3  10  5  16  8  4  2  1  \n",
            "97: 292  146  73  220  110  55  166  83  250  125  376  188  94  47  142  71  214  107  322  161  484  242  121  364  182  91  274  137  412  206  103  310  155  466  233  700  350  175  526  263  790  395  1186  593  1780  890  445  1336  668  334  167  502  251  754  377  1132  566  283  850  425  1276  638  319  958  479  1438  719  2158  1079  3238  1619  4858  2429  7288  3644  1822  911  2734  1367  4102  2051  6154  3077  9232  4616  2308  1154  577  1732  866  433  1300  650  325  976  488  244  122  61  184  92  46  23  70  35  106  53  160  80  40  20  10  5  16  8  4  2  1  \n",
            "98: 49  148  74  37  112  56  28  14  7  22  11  34  17  52  26  13  40  20  10  5  16  8  4  2  1  \n",
            "99: 298  149  448  224  112  56  28  14  7  22  11  34  17  52  26  13  40  20  10  5  16  8  4  2  1  \n",
            "100: 50  25  76  38  19  58  29  88  44  22  11  34  17  52  26  13  40  20  10  5  16  8  4  2  1  \n"
          ]
        }
      ]
    },
    {
      "cell_type": "markdown",
      "source": [
        "# Question 4"
      ],
      "metadata": {
        "id": "zpyCUN-nWTVj"
      }
    },
    {
      "cell_type": "markdown",
      "source": [
        "Using the new \"DroppingTime\" function, we can then use a for loop to study the dropping time of any range of numbers for input n and study the values to look for patterns."
      ],
      "metadata": {
        "id": "cizBSO4XovK1"
      }
    },
    {
      "cell_type": "code",
      "source": [
        "for i in range(3, 100):\n",
        "      l = str(i)\n",
        "      n = str(DroppingTime(i))\n",
        "      print(l + \": \" + n)"
      ],
      "metadata": {
        "colab": {
          "base_uri": "https://localhost:8080/"
        },
        "id": "nOWH7w3kohML",
        "outputId": "de17e295-8e2d-4595-8c31-bcce19f3ed3d"
      },
      "execution_count": 14,
      "outputs": [
        {
          "output_type": "stream",
          "name": "stdout",
          "text": [
            "3: 6\n",
            "4: 1\n",
            "5: 3\n",
            "6: 1\n",
            "7: 11\n",
            "8: 1\n",
            "9: 3\n",
            "10: 1\n",
            "11: 8\n",
            "12: 1\n",
            "13: 3\n",
            "14: 1\n",
            "15: 11\n",
            "16: 1\n",
            "17: 3\n",
            "18: 1\n",
            "19: 6\n",
            "20: 1\n",
            "21: 3\n",
            "22: 1\n",
            "23: 8\n",
            "24: 1\n",
            "25: 3\n",
            "26: 1\n",
            "27: 96\n",
            "28: 1\n",
            "29: 3\n",
            "30: 1\n",
            "31: 91\n",
            "32: 1\n",
            "33: 3\n",
            "34: 1\n",
            "35: 6\n",
            "36: 1\n",
            "37: 3\n",
            "38: 1\n",
            "39: 13\n",
            "40: 1\n",
            "41: 3\n",
            "42: 1\n",
            "43: 8\n",
            "44: 1\n",
            "45: 3\n",
            "46: 1\n",
            "47: 88\n",
            "48: 1\n",
            "49: 3\n",
            "50: 1\n",
            "51: 6\n",
            "52: 1\n",
            "53: 3\n",
            "54: 1\n",
            "55: 8\n",
            "56: 1\n",
            "57: 3\n",
            "58: 1\n",
            "59: 11\n",
            "60: 1\n",
            "61: 3\n",
            "62: 1\n",
            "63: 88\n",
            "64: 1\n",
            "65: 3\n",
            "66: 1\n",
            "67: 6\n",
            "68: 1\n",
            "69: 3\n",
            "70: 1\n",
            "71: 83\n",
            "72: 1\n",
            "73: 3\n",
            "74: 1\n",
            "75: 8\n",
            "76: 1\n",
            "77: 3\n",
            "78: 1\n",
            "79: 13\n",
            "80: 1\n",
            "81: 3\n",
            "82: 1\n",
            "83: 6\n",
            "84: 1\n",
            "85: 3\n",
            "86: 1\n",
            "87: 8\n",
            "88: 1\n",
            "89: 3\n",
            "90: 1\n",
            "91: 73\n",
            "92: 1\n",
            "93: 3\n",
            "94: 1\n",
            "95: 13\n",
            "96: 1\n",
            "97: 3\n",
            "98: 1\n",
            "99: 6\n"
          ]
        }
      ]
    },
    {
      "cell_type": "markdown",
      "source": [
        "With the DroppingTime function we can easily figure out the \"Dropping Time\" for any number ran through the Collatz Function. We see that starting with 5, every other odd number (including 5) has a dropping time of 3. Ie. 5+4, 5+4+4, 5+4+4+4 ... all have dropping time of 3. Another obvious observation is all even numbers have a dropping time of 1, because they immediately get dropped in half. Something to consider with our obesrvations is that there is no coherent pattern with dropping times which is an example of what makes the Collatz Conjecture not fully understood. Beyond the observations we have made there is no inherent pattern with input n and the associated dropping time."
      ],
      "metadata": {
        "id": "hRAm0_tSZGTD"
      }
    },
    {
      "cell_type": "markdown",
      "metadata": {
        "id": "_MPrWBdhpF3V"
      },
      "source": [
        "After studying the dropping time of many numbers, there are certain patterns that reveal themselves--even with no known rule that determins a numbers dropping time. "
      ]
    },
    {
      "cell_type": "markdown",
      "source": [
        "# Question 5\n"
      ],
      "metadata": {
        "id": "BQkNUbuaWTe6"
      }
    },
    {
      "cell_type": "markdown",
      "source": [
        "Now we discuss iterations of the Collatz Conjecture. When starting with a negative integer for input, n, we see that the Collatz sequence will get stuck in an infinite loop, since the function is programmed to stop only when the integer hits 1. \n",
        "\n"
      ],
      "metadata": {
        "id": "h-ixQLAOWOB7"
      }
    },
    {
      "cell_type": "markdown",
      "source": [
        "When starting with a negative integer, the sign of the integer never changes. This means eventually, the sequence will hit n = -1, in which case the sequence will determine that n is odd, multiply by 3 and add 1, yielding -2. Then the sequence determines n is even, and divides by 2, now making n = -1, and this two step cycle repeats indefinitly. In order to fix this issue, in the first line of the function, we can change the while condition to `while abs(n) != 1` meaning now the function will also stop when n = -1\n"
      ],
      "metadata": {
        "id": "ywbNJjR0Xb94"
      }
    },
    {
      "cell_type": "code",
      "source": [
        "def Collatz(n):\n",
        "  while abs(n) != 1: #\n",
        "    if n % 2 == 0:\n",
        "      n /= 2\n",
        "    else:\n",
        "      n = (3 * n) + 1"
      ],
      "metadata": {
        "id": "j1AMhxOfWSnz"
      },
      "execution_count": 8,
      "outputs": []
    },
    {
      "cell_type": "markdown",
      "source": [
        "One variant of this could be implemented such that instead of \n",
        "\n",
        "```\n",
        "else:\n",
        "  n = (3 * n) + 1\n",
        "```\n",
        "\n",
        "we can input \n",
        "\n",
        "\n",
        "\n",
        "```\n",
        "else:\n",
        "  n = (5 * n) + 1\n",
        "```\n",
        "\n",
        "However, this variant will also get stuck in a loop when a negative integer is the input, unless the while condition is controlled for with an absolute value. \n",
        "\n"
      ],
      "metadata": {
        "id": "tu0LPUo4Xk9I"
      }
    },
    {
      "cell_type": "code",
      "source": [
        "def Collatz_variant(n):\n",
        "    output = f\"{n}: \"\n",
        "    while abs(n) != 1:\n",
        "        if n % 2 == 0:\n",
        "            n = n // 2\n",
        "        else:\n",
        "            n = (5 * n) + 1\n",
        "\n",
        "        output += f\"{n}  \"\n",
        "\n",
        "    print(output)\n",
        "\n",
        "\n",
        "Collatz_variant(-3)"
      ],
      "metadata": {
        "colab": {
          "base_uri": "https://localhost:8080/"
        },
        "id": "NNTSNqJbe7sB",
        "outputId": "fe445ea8-9203-4a5d-b0e4-394724b21f92"
      },
      "execution_count": 9,
      "outputs": [
        {
          "output_type": "stream",
          "name": "stdout",
          "text": [
            "-3: -14  -7  -34  -17  -84  -42  -21  -104  -52  -26  -13  -64  -32  -16  -8  -4  -2  -1  \n"
          ]
        }
      ]
    },
    {
      "cell_type": "markdown",
      "source": [
        "It seems as there may not be a solution where this conjecture can take both positive and negative inputs, aside from absolute value condition. "
      ],
      "metadata": {
        "id": "18ygU-hNfGSG"
      }
    },
    {
      "cell_type": "markdown",
      "source": [
        "Its interesting to note that once abs(n) reaches a perfect square, then we know the sequence will reach the end point."
      ],
      "metadata": {
        "id": "tVZ9H733gdjV"
      }
    }
  ],
  "metadata": {
    "colab": {
      "provenance": [],
      "include_colab_link": true
    },
    "kernelspec": {
      "display_name": "Python 3",
      "name": "python3"
    },
    "language_info": {
      "name": "python"
    }
  },
  "nbformat": 4,
  "nbformat_minor": 0
}